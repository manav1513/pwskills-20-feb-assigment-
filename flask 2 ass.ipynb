{
 "cells": [
  {
   "cell_type": "code",
   "execution_count": 1,
   "id": "226e62e3-765d-42bc-a558-eac63df8e8e3",
   "metadata": {},
   "outputs": [],
   "source": [
    "# Q1. Explain GET and POST methods.\n",
    "\n",
    "# ans = GET and POST methods are HTTP request methods used to send data to a\n",
    "#server for processing.\n",
    "\n",
    "# The GET method requests data from a specified resource, usually to retrieve\n",
    "#data from the server. The data is sent in the URL as query parameters,\n",
    "#making it visible in the browser's address bar. The data limit for GET is\n",
    "#usually smaller, around 2048 characters. It is not suitable for sending \n",
    "#sensitive data like passwords, as it is not encrypted.\n",
    "\n",
    "# The POST method submits an entity to the specified resource, usually to \n",
    "#create, update, or delete data on the server. The data is sent in the\n",
    "#message body of the HTTP request, making it invisible in the browser's \n",
    "#address bar. The data limit for POST is larger than GET, usually around 8MB. \n",
    "#It is suitable for sending sensitive data as it is encrypted.\n"
   ]
  },
  {
   "cell_type": "code",
   "execution_count": 2,
   "id": "ec338672-b1a5-42fc-9b03-7065d98893b6",
   "metadata": {},
   "outputs": [],
   "source": [
    "# Q2. Why is request used in Flask?\n",
    "\n",
    "# ans = The request object in Flask is used to represent the incoming HTTP \n",
    "#request and contains information about the request such as form data, headers\n",
    "#, cookies, and more. It allows Flask to handle requests and provide responses\n",
    "#to clients.\n",
    "\n",
    "# The request object can be accessed using the global variable request in \n",
    "#Flask. It provides a simple interface to access request data"
   ]
  },
  {
   "cell_type": "code",
   "execution_count": 3,
   "id": "40a29508-2e2a-4b24-b4d3-735b582a986c",
   "metadata": {},
   "outputs": [],
   "source": [
    "# Q3. Why is redirect() used in Flask?\n",
    "\n",
    "# ans = The redirect() function in Flask is used to redirect the client to a \n",
    "# different URL. It is used when a client makes a request to a URL, but the\n",
    "# response should be provided by a different URL. For example, after a \n",
    "# successful form submission, a user should be redirected to a thank you page \n",
    "# to prevent form resubmission on page refresh.\n"
   ]
  },
  {
   "cell_type": "code",
   "execution_count": 4,
   "id": "457ba684-a697-4f43-bfa0-45a1828e7547",
   "metadata": {},
   "outputs": [],
   "source": [
    "# Q4. What are templates in Flask? Why is the render_template() function used?\n",
    "\n",
    "# ans =  Templates in Flask are used to create dynamic HTML pages that can be \n",
    "# served to clients based on the data received from the server. Flask uses the\n",
    "# Jinja template engine to render templates.\n",
    "\n",
    "# Templates in Flask are stored in the templates folder in the project directory.\n",
    "# The render_template() function in Flask is used to render a template with the\n",
    "# provided data.\n"
   ]
  },
  {
   "cell_type": "code",
   "execution_count": null,
   "id": "35857b8d-d7eb-4035-85b2-7a434bc0d2bd",
   "metadata": {},
   "outputs": [],
   "source": [
    "# Q5. Create a simple API. Use Postman to test it. Attach the screenshot of the\n",
    "# output in the Jupyter Notebook.\n",
    "\n",
    "# ans = \n",
    "\n",
    "# from flask import Flask, jsonify\n",
    "\n",
    "# app = Flask(_name_)\n",
    "\n",
    "# @app.route('/api', methods=['GET'])\n",
    "# def hello():\n",
    "#     return jsonify({'message': 'Hello, World!'})\n",
    "\n",
    "# if _name_ == '_main_':\n",
    "#     app.run(debug=True)\n"
   ]
  }
 ],
 "metadata": {
  "kernelspec": {
   "display_name": "Python 3 (ipykernel)",
   "language": "python",
   "name": "python3"
  },
  "language_info": {
   "codemirror_mode": {
    "name": "ipython",
    "version": 3
   },
   "file_extension": ".py",
   "mimetype": "text/x-python",
   "name": "python",
   "nbconvert_exporter": "python",
   "pygments_lexer": "ipython3",
   "version": "3.10.8"
  }
 },
 "nbformat": 4,
 "nbformat_minor": 5
}
